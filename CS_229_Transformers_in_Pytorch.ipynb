{
  "nbformat": 4,
  "nbformat_minor": 0,
  "metadata": {
    "colab": {
      "provenance": [],
      "gpuType": "T4",
      "include_colab_link": true
    },
    "kernelspec": {
      "name": "python3",
      "display_name": "Python 3"
    },
    "language_info": {
      "name": "python"
    },
    "accelerator": "GPU"
  },
  "cells": [
    {
      "cell_type": "markdown",
      "metadata": {
        "id": "view-in-github",
        "colab_type": "text"
      },
      "source": [
        "<a href=\"https://colab.research.google.com/github/QMSforever/Causal-Inference/blob/main/CS_229_Transformers_in_Pytorch.ipynb\" target=\"_parent\"><img src=\"https://colab.research.google.com/assets/colab-badge.svg\" alt=\"Open In Colab\"/></a>"
      ]
    },
    {
      "cell_type": "markdown",
      "source": [
        "Remember to make a copy of this colab notebook before you start editing cells!"
      ],
      "metadata": {
        "id": "awMdRX9tqbfV"
      }
    },
    {
      "cell_type": "code",
      "source": [
        "!pip install datasets"
      ],
      "metadata": {
        "id": "HVsmPq4IduLD"
      },
      "execution_count": null,
      "outputs": []
    },
    {
      "cell_type": "code",
      "source": [
        "!pip install tqdm"
      ],
      "metadata": {
        "id": "kZVu4xi1dxiY"
      },
      "execution_count": null,
      "outputs": []
    },
    {
      "cell_type": "code",
      "source": [
        "!wget https://raw.githubusercontent.com/karpathy/char-rnn/master/data/tinyshakespeare/input.txt"
      ],
      "metadata": {
        "id": "i8KwXCr8ov6m"
      },
      "execution_count": null,
      "outputs": []
    },
    {
      "cell_type": "code",
      "source": [
        "# DO NOT MODIFY ANY OF THIS CODE\n",
        "\n",
        "import torch\n",
        "import torch.nn as nn\n",
        "import torch.nn.functional as F\n",
        "from torch.optim.lr_scheduler import ReduceLROnPlateau\n",
        "from tqdm import tqdm"
      ],
      "metadata": {
        "id": "a_p9YjxYpkPN"
      },
      "execution_count": null,
      "outputs": []
    },
    {
      "cell_type": "code",
      "source": [
        "# DO NOT MODIFY ANY OF THIS CODE\n",
        "\n",
        "# Hyperparameters\n",
        "batch_sz = 16\n",
        "context_length = 32\n",
        "max_iterations = 30000\n",
        "log_interval = 200\n",
        "init_lr = 1e-3\n",
        "device = 'cuda' if torch.cuda.is_available() else 'cpu'\n",
        "eval_steps = 200\n",
        "embedding_dim = 64\n",
        "num_heads = 4\n",
        "num_blocks = 4\n",
        "drop_prob = 0.0\n",
        "\n",
        "# Load and prepare the data\n",
        "torch.manual_seed(1337)\n",
        "with open('input.txt', 'r', encoding='utf-8') as file:\n",
        "    text_data = file.read()\n",
        "\n",
        "unique_chars = sorted(set(text_data))\n",
        "vocab_size = len(unique_chars)\n",
        "char_to_index = {ch: i for i, ch in enumerate(unique_chars)}\n",
        "index_to_char = {i: ch for i, ch in enumerate(unique_chars)}\n",
        "\n",
        "def encode_text(s): return [char_to_index[c] for c in s]\n",
        "def decode_text(l): return ''.join([index_to_char[i] for i in l])\n",
        "\n",
        "# Split data for training and validation\n",
        "data_tensor = torch.tensor(encode_text(text_data), dtype=torch.long)\n",
        "train_size = int(0.9 * len(data_tensor))\n",
        "train_data, val_data = data_tensor[:train_size], data_tensor[train_size:]\n",
        "\n",
        "def generate_batch(split):\n",
        "    data_src = train_data if split == 'train' else val_data\n",
        "    indices = torch.randint(0, len(data_src) - context_length, (batch_sz,))\n",
        "    inputs = torch.stack([data_src[i:i + context_length] for i in indices])\n",
        "    targets = torch.stack([data_src[i + 1:i + context_length + 1] for i in indices])\n",
        "    return inputs.to(device), targets.to(device)\n",
        "\n",
        "@torch.no_grad()\n",
        "def evaluate_loss():\n",
        "    model.eval()\n",
        "    losses = {'train': [], 'val': []}\n",
        "    for split in ['train', 'val']:\n",
        "        for _ in range(eval_steps):\n",
        "            batch_x, batch_y = generate_batch(split)\n",
        "            _, batch_loss = model(batch_x, batch_y)\n",
        "            losses[split].append(batch_loss.item())\n",
        "    model.train()\n",
        "    return {split: torch.tensor(losses[split]).mean().item() for split in losses}"
      ],
      "metadata": {
        "id": "AufUQaqoeJF2"
      },
      "execution_count": null,
      "outputs": []
    },
    {
      "cell_type": "code",
      "source": [
        "# YOU WILL CHANGE CODE IN THIS CELL\n",
        "# Implement a Transformer model with PyTorch. Fill out the provided skeleton.\n",
        "\n",
        "class SelfAttention(nn.Module):\n",
        "    def __init__(self, head_dim):\n",
        "        super().__init__()\n",
        "        # TODO: initialize key, query, and value as linear layers. Set bias=False\n",
        "        # self.key_proj = ...\n",
        "        # self.query_proj = ...\n",
        "        # self.value_proj = ...\n",
        "        self.register_buffer('mask', torch.tril(torch.ones(context_length, context_length)))\n",
        "        self.dropout = nn.Dropout(drop_prob)\n",
        "\n",
        "    def forward(self, x):\n",
        "        # B, T, C = ...\n",
        "        # keys, queries, values = ...\n",
        "        scores = (queries @ keys.transpose(-2, -1)) * (C ** -0.5)\n",
        "        scores = scores.masked_fill(self.mask[:T, :T] == 0, float('-inf'))\n",
        "        # TODO: apply softmax and dropout\n",
        "        # attention_weights = ...\n",
        "        # attention_weights = ...\n",
        "        return attention_weights @ values\n",
        "\n",
        "class MultiHeadSelfAttention(nn.Module):\n",
        "    def __init__(self, num_heads, head_dim):\n",
        "        super().__init__()\n",
        "        self.heads = nn.ModuleList([SelfAttention(head_dim) for _ in range(num_heads)])\n",
        "        self.output_proj = nn.Linear(embedding_dim, embedding_dim)\n",
        "        self.dropout = nn.Dropout(drop_prob)\n",
        "\n",
        "    def forward(self, x):\n",
        "        # TODO: combine multiple attention heads\n",
        "        # x = ...\n",
        "        return self.dropout(self.output_proj(x))\n",
        "\n",
        "class FeedForwardLayer(nn.Module):\n",
        "    def __init__(self, emb_dim):\n",
        "        super().__init__()\n",
        "        self.layers = nn.Sequential(\n",
        "            nn.Linear(emb_dim, 4 * emb_dim),\n",
        "            nn.ReLU(),\n",
        "            nn.Linear(4 * emb_dim, emb_dim),\n",
        "            nn.Dropout(drop_prob)\n",
        "        )\n",
        "\n",
        "    def forward(self, x):\n",
        "        return self.layers(x)\n",
        "\n",
        "class TransformerBlock(nn.Module):\n",
        "    def __init__(self, emb_dim, num_heads):\n",
        "        super().__init__()\n",
        "        # TODO: initialize the multihead self attention, feed forward layer, and two layernorms\n",
        "        # self.attention = ...\n",
        "        # self.feed_forward = ...\n",
        "        # self.norm1 = ...\n",
        "        # self.norm2 = ...\n",
        "\n",
        "    def forward(self, x):\n",
        "        # TODO: implement the forward logic\n",
        "        # x = ...\n",
        "        # x = ...\n",
        "        return x\n",
        "\n",
        "class TransformerLanguageModel(nn.Module):\n",
        "    def __init__(self):\n",
        "        super().__init__()\n",
        "        # self.token_embeddings = ...\n",
        "        # self.position_embeddings = ...\n",
        "        self.transformer_blocks = nn.Sequential(*[TransformerBlock(embedding_dim, num_heads) for _ in range(num_blocks)])\n",
        "        self.final_norm = nn.LayerNorm(embedding_dim)\n",
        "        self.head = nn.Linear(embedding_dim, vocab_size)\n",
        "\n",
        "    def forward(self, idx, targets=None):\n",
        "        # B, T = ...\n",
        "        # tok_emb = ...\n",
        "        pos_emb = self.position_embeddings(torch.arange(T, device=device))\n",
        "        x = tok_emb + pos_emb\n",
        "        x = self.final_norm(self.transformer_blocks(x))\n",
        "        logits = self.head(x)\n",
        "\n",
        "        if targets is None:\n",
        "            return logits, None\n",
        "\n",
        "        logits = logits.view(B * T, vocab_size)\n",
        "        # targets = ...\n",
        "        # loss = ...\n",
        "        return logits, loss\n",
        "\n",
        "    def generate_text(self, idx, max_tokens):\n",
        "        for _ in range(max_tokens):\n",
        "            idx_cond = idx[:, -context_length:]\n",
        "            logits, _ = self(idx_cond)\n",
        "            probs = F.softmax(logits[:, -1, :], dim=-1)\n",
        "            next_token = torch.multinomial(probs, num_samples=1)\n",
        "            idx = torch.cat((idx, next_token), dim=1)\n",
        "        return idx"
      ],
      "metadata": {
        "id": "3QG0iPsMo_Gg"
      },
      "execution_count": null,
      "outputs": []
    },
    {
      "cell_type": "code",
      "source": [
        "# DO NOT MODIFY ANY OF THIS CODE\n",
        "\n",
        "# Initialize and train the model\n",
        "model = TransformerLanguageModel().to(device)\n",
        "optimizer = torch.optim.AdamW(model.parameters(), lr=init_lr)\n",
        "scheduler = ReduceLROnPlateau(optimizer, mode='min', factor=0.5, patience=5, verbose=True)\n",
        "best_val_loss = float('inf')\n",
        "no_progress = 0\n",
        "max_patience = 10\n",
        "\n",
        "for step in tqdm(range(max_iterations)):\n",
        "    if step % log_interval == 0 or step == max_iterations - 1:\n",
        "        current_losses = evaluate_loss()\n",
        "        print(f\"Step {step}: train loss {current_losses['train']:.4f}, val loss {current_losses['val']:.4f}\")\n",
        "        scheduler.step(current_losses['val'])\n",
        "\n",
        "        if current_losses['val'] < best_val_loss:\n",
        "            best_val_loss = current_losses['val']\n",
        "            no_progress = 0\n",
        "        else:\n",
        "            no_progress += 1\n",
        "\n",
        "    batch_x, batch_y = generate_batch('train')\n",
        "    _, batch_loss = model(batch_x, batch_y)\n",
        "    optimizer.zero_grad()\n",
        "    batch_loss.backward()\n",
        "    optimizer.step()\n",
        "\n",
        "start_context = torch.zeros((1, 1), dtype=torch.long, device=device)\n",
        "generated_output = decode_text(model.generate_text(start_context, max_tokens=1000)[0].tolist())\n",
        "\n",
        "with open(\"output.txt\", \"w\", encoding=\"utf-8\") as out_file:\n",
        "    out_file.write(generated_output)"
      ],
      "metadata": {
        "id": "OKXSCJBNpGKT"
      },
      "execution_count": null,
      "outputs": []
    },
    {
      "cell_type": "code",
      "source": [
        "# DO NOT MODIFY ANY OF THIS CODE\n",
        "\n",
        "# Generate from the model\n",
        "with torch.no_grad():\n",
        "    context = torch.tensor(encode_text(\"JULIET: \"), dtype=torch.long).unsqueeze(0).to(device)\n",
        "    generated_text = decode_text(model.generate_text(context, max_tokens=200)[0].tolist())\n",
        "    print(generated_text)"
      ],
      "metadata": {
        "id": "j-a_vX0tEQbb"
      },
      "execution_count": null,
      "outputs": []
    }
  ]
}